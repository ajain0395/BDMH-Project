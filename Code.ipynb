{
 "cells": [
  {
   "cell_type": "code",
   "execution_count": 1,
   "metadata": {},
   "outputs": [],
   "source": [
    "from PIL import Image\n",
    "import numpy as np\n",
    "import copy\n",
    "# import cv2\n",
    "import os\n",
    "from scipy.cluster.vq import whiten\n",
    "import matplotlib.pyplot as plt\n",
    "from sklearn.cluster import AgglomerativeClustering\n",
    "from sklearn.cluster import KMeans\n",
    "from sklearn.manifold import TSNE\n",
    "import warnings\n",
    "from sklearn.decomposition import PCA\n",
    "warnings.filterwarnings(\"ignore\")\n",
    "import pandas as pd\n",
    "from scipy.sparse import csr_matrix, hstack\n",
    "import matplotlib.pyplot as plt\n",
    "import seaborn as seab\n",
    "from numpy import histogram\n",
    "import warnings\n",
    "from sklearn.model_selection import KFold\n",
    "from sklearn.ensemble import RandomForestClassifier\n",
    "from sklearn.svm import SVC,LinearSVC\n",
    "from sklearn.naive_bayes import MultinomialNB, GaussianNB\n",
    "from sklearn.neural_network import MLPClassifier\n",
    "from sklearn.metrics import accuracy_score\n",
    "from sklearn.utils import shuffle\n",
    "from sklearn.metrics import matthews_corrcoef as mcc\n",
    "from sklearn.metrics import classification_report\n",
    "# from xgboost import XGBClassifier\n",
    "warnings.filterwarnings(\"ignore\")\n",
    "import scipy\n",
    "from scipy.misc import imread\n",
    "# from skimage.color import rgb2lab\n",
    "# from skimage.color import rgb2gray\n",
    "# from skimage.measure import regionprops\n",
    "import pickle\n",
    "import random\n",
    "import seaborn as sb\n",
    "# from skimage.feature import hog,local_binary_pattern\n",
    "from sklearn.model_selection import train_test_split\n",
    "# from skimage import data, exposure\n",
    "train_test_split_ratio = 0.7"
   ]
  },
  {
   "cell_type": "code",
   "execution_count": 2,
   "metadata": {},
   "outputs": [],
   "source": [
    "# !pip3 install seaborn"
   ]
  },
  {
   "cell_type": "code",
   "execution_count": 42,
   "metadata": {},
   "outputs": [],
   "source": [
    "completedata = pd.read_csv(\"./data/data.csv\")\n",
    "completedata.head()\n",
    "completedata.loc[completedata.diagnosis == 'M', 'diagnosis'] = 1\n",
    "completedata.loc[completedata.diagnosis == 'B', 'diagnosis'] = 0"
   ]
  },
  {
   "cell_type": "code",
   "execution_count": 43,
   "metadata": {},
   "outputs": [],
   "source": [
    "train_Y = completedata.diagnosis\n",
    "train_X = completedata.drop([\"id\",\"Unnamed: 32\",\"diagnosis\"],axis=1)"
   ]
  },
  {
   "cell_type": "code",
   "execution_count": 44,
   "metadata": {},
   "outputs": [],
   "source": [
    "train_Y = np.array(train_Y)\n",
    "train_X = np.array(train_X)"
   ]
  },
  {
   "cell_type": "code",
   "execution_count": 45,
   "metadata": {},
   "outputs": [],
   "source": [
    "# train_X.iloc()"
   ]
  },
  {
   "cell_type": "code",
   "execution_count": 46,
   "metadata": {},
   "outputs": [
    {
     "name": "stdout",
     "output_type": "stream",
     "text": [
      "(569, 30)\n",
      "[[1.799e+01 1.038e+01 1.228e+02 1.001e+03 1.184e-01 2.776e-01 3.001e-01\n",
      "  1.471e-01 2.419e-01 7.871e-02 1.095e+00 9.053e-01 8.589e+00 1.534e+02\n",
      "  6.399e-03 4.904e-02 5.373e-02 1.587e-02 3.003e-02 6.193e-03 2.538e+01\n",
      "  1.733e+01 1.846e+02 2.019e+03 1.622e-01 6.656e-01 7.119e-01 2.654e-01\n",
      "  4.601e-01 1.189e-01]\n",
      " [2.057e+01 1.777e+01 1.329e+02 1.326e+03 8.474e-02 7.864e-02 8.690e-02\n",
      "  7.017e-02 1.812e-01 5.667e-02 5.435e-01 7.339e-01 3.398e+00 7.408e+01\n",
      "  5.225e-03 1.308e-02 1.860e-02 1.340e-02 1.389e-02 3.532e-03 2.499e+01\n",
      "  2.341e+01 1.588e+02 1.956e+03 1.238e-01 1.866e-01 2.416e-01 1.860e-01\n",
      "  2.750e-01 8.902e-02]\n",
      " [1.969e+01 2.125e+01 1.300e+02 1.203e+03 1.096e-01 1.599e-01 1.974e-01\n",
      "  1.279e-01 2.069e-01 5.999e-02 7.456e-01 7.869e-01 4.585e+00 9.403e+01\n",
      "  6.150e-03 4.006e-02 3.832e-02 2.058e-02 2.250e-02 4.571e-03 2.357e+01\n",
      "  2.553e+01 1.525e+02 1.709e+03 1.444e-01 4.245e-01 4.504e-01 2.430e-01\n",
      "  3.613e-01 8.758e-02]]\n"
     ]
    }
   ],
   "source": [
    "print (train_X.shape)\n",
    "# print (completedata.shape)\n",
    "print (train_X[0:3,:])"
   ]
  },
  {
   "cell_type": "code",
   "execution_count": 47,
   "metadata": {},
   "outputs": [],
   "source": [
    "# train_X.head()"
   ]
  },
  {
   "cell_type": "code",
   "execution_count": 48,
   "metadata": {},
   "outputs": [
    {
     "data": {
      "text/plain": [
       "(569,)"
      ]
     },
     "execution_count": 48,
     "metadata": {},
     "output_type": "execute_result"
    }
   ],
   "source": [
    "train_Y.shape"
   ]
  },
  {
   "cell_type": "code",
   "execution_count": 49,
   "metadata": {},
   "outputs": [],
   "source": [
    "# mask = np.zeros_like(train_X.corr(), dtype=np.bool)\n",
    "# mask[np.triu_indices_from(mask)] = True\n",
    "# plt.figure(figsize=(16,8))\n",
    "# sb.heatmap(np.abs(train_X.corr()),cmap='YlGn',mask=mask, annot=True)\n",
    "# plt.show()"
   ]
  },
  {
   "cell_type": "code",
   "execution_count": 50,
   "metadata": {},
   "outputs": [],
   "source": [
    "# ax = sb.countplot(train_Y,label=\"Count\")       # M = 212, B = 357\n",
    "# B, M = train_Y.value_counts()\n",
    "# print('Number of Benign: ',B)\n",
    "# print('Number of Malignant : ',M)"
   ]
  },
  {
   "cell_type": "code",
   "execution_count": 51,
   "metadata": {},
   "outputs": [],
   "source": [
    "import rotation_forest\n",
    "def reports(classifier,train_data,train_labels,train_test_split_ratio=.3):\n",
    "    kf = KFold(n_splits=5)\n",
    "    kf.get_n_splits(train_data)\n",
    "    print(kf)\n",
    "    scores = []\n",
    "    for train_index, test_index in kf.split(train_data):\n",
    "        #print(\"TRAIN:\", len(train_index), \"TEST:\", len(test_index))\n",
    "        X_train, X_test = train_data[train_index], train_data[test_index]\n",
    "        y_train, y_test = train_labels[train_index], train_labels[test_index]\n",
    "        classifier.fit(X_train,y_train)\n",
    "        predicted = classifier.predict(X_test)\n",
    "        scores.append(accuracy_score(predicted,y_test))\n",
    "    scores = np.array(scores)\n",
    "    print (\"Average Accuracy K Fold: \",scores.mean())\n",
    "    train_data_len = len(train_data)\n",
    "    chunksize = int(train_data_len*train_test_split_ratio)\n",
    "    \n",
    "    train_x = train_data[0:chunksize]\n",
    "    train_y = train_labels[0:chunksize]\n",
    "\n",
    "    test_x = train_data[chunksize:train_data_len]\n",
    "    test_y = train_labels[chunksize:train_data_len]\n",
    "    \n",
    "    classifier.fit(train_x,train_y)\n",
    "    predicted = classifier.predict(test_x)\n",
    "    print (\"Test Data Results:\")\n",
    "    print (\"Test Accuracy: \",accuracy_score(predicted,test_y))\n",
    "    X = classification_report(test_y,predicted)\n",
    "    print (X)\n",
    "    print (\"MCC: \",mcc(test_y,predicted))\n",
    "    print (\"\")"
   ]
  },
  {
   "cell_type": "code",
   "execution_count": 52,
   "metadata": {},
   "outputs": [],
   "source": [
    "rotationforest = rotation_forest.RotationForestClassifier()"
   ]
  },
  {
   "cell_type": "code",
   "execution_count": 53,
   "metadata": {},
   "outputs": [],
   "source": [
    "from sklearn.decomposition import PCA\n",
    "pca = PCA(n_components=25)"
   ]
  },
  {
   "cell_type": "code",
   "execution_count": 54,
   "metadata": {},
   "outputs": [
    {
     "name": "stdout",
     "output_type": "stream",
     "text": [
      "KFold(n_splits=5, random_state=None, shuffle=False)\n",
      "('Average Accuracy K Fold: ', 0.9191429902189101)\n",
      "Test Data Results:\n",
      "('Test Accuracy: ', 0.8621553884711779)\n",
      "              precision    recall  f1-score   support\n",
      "\n",
      "           0       0.99      0.81      0.89       276\n",
      "           1       0.70      0.98      0.81       123\n",
      "\n",
      "   micro avg       0.86      0.86      0.86       399\n",
      "   macro avg       0.84      0.89      0.85       399\n",
      "weighted avg       0.90      0.86      0.87       399\n",
      "\n",
      "('MCC: ', 0.7340357538058228)\n",
      "\n"
     ]
    }
   ],
   "source": [
    "reports(rotationforest,pca.fit_transform(np.array(train_X)),np.array(train_Y),0.3)"
   ]
  },
  {
   "cell_type": "code",
   "execution_count": 33,
   "metadata": {},
   "outputs": [],
   "source": [
    "# np.array(train_Y)"
   ]
  },
  {
   "cell_type": "code",
   "execution_count": 34,
   "metadata": {},
   "outputs": [],
   "source": [
    "# train_X[0:5]"
   ]
  },
  {
   "cell_type": "code",
   "execution_count": 55,
   "metadata": {},
   "outputs": [
    {
     "data": {
      "text/plain": [
       "array([1, 1, 1, 1, 1])"
      ]
     },
     "execution_count": 55,
     "metadata": {},
     "output_type": "execute_result"
    }
   ],
   "source": [
    "train_Y[0:5]"
   ]
  },
  {
   "cell_type": "code",
   "execution_count": 56,
   "metadata": {},
   "outputs": [],
   "source": [
    "from feature_selection_ga import FeatureSelectionGA"
   ]
  },
  {
   "cell_type": "code",
   "execution_count": 57,
   "metadata": {},
   "outputs": [],
   "source": [
    "ga = FeatureSelectionGA(rotationforest,train_X,train_Y)"
   ]
  },
  {
   "cell_type": "code",
   "execution_count": 61,
   "metadata": {},
   "outputs": [
    {
     "name": "stdout",
     "output_type": "stream",
     "text": [
      "EVOLVING.......\n",
      "-- GENERATION 1 --\n",
      "Evaluated 94 individuals\n",
      "-- GENERATION 2 --\n",
      "Evaluated 89 individuals\n",
      "-- GENERATION 3 --\n",
      "Evaluated 89 individuals\n",
      "-- GENERATION 4 --\n",
      "Evaluated 108 individuals\n",
      "-- GENERATION 5 --\n",
      "Evaluated 94 individuals\n",
      "-- Only the fittest survives --\n",
      "Best individual is [0, 1, 1, 1, 1, 0, 0, 0, 0, 0, 1, 0, 1, 1, 1, 0, 1, 1, 0, 0, 1, 1, 0, 0, 0, 0, 1, 1, 0, 0], (0.964200477326969,)\n"
     ]
    }
   ],
   "source": [
    "pop = ga.generate(150)"
   ]
  },
  {
   "cell_type": "code",
   "execution_count": null,
   "metadata": {},
   "outputs": [],
   "source": [
    "ga.eva"
   ]
  }
 ],
 "metadata": {
  "kernelspec": {
   "display_name": "Python 2",
   "language": "python",
   "name": "python2"
  },
  "language_info": {
   "codemirror_mode": {
    "name": "ipython",
    "version": 2
   },
   "file_extension": ".py",
   "mimetype": "text/x-python",
   "name": "python",
   "nbconvert_exporter": "python",
   "pygments_lexer": "ipython2",
   "version": "2.7.15"
  }
 },
 "nbformat": 4,
 "nbformat_minor": 2
}
