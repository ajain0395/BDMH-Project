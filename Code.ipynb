{
 "cells": [
  {
   "cell_type": "code",
   "execution_count": 2,
   "metadata": {},
   "outputs": [],
   "source": [
    "from PIL import Image\n",
    "import numpy as np\n",
    "import copy\n",
    "# import cv2\n",
    "import os\n",
    "from scipy.cluster.vq import whiten\n",
    "import matplotlib.pyplot as plt\n",
    "from sklearn.cluster import AgglomerativeClustering\n",
    "from sklearn.cluster import KMeans\n",
    "from sklearn.manifold import TSNE\n",
    "import warnings\n",
    "from sklearn.decomposition import PCA\n",
    "warnings.filterwarnings(\"ignore\")\n",
    "import pandas as pd\n",
    "from scipy.sparse import csr_matrix, hstack\n",
    "import matplotlib.pyplot as plt\n",
    "import seaborn as seab\n",
    "from numpy import histogram\n",
    "import warnings\n",
    "from sklearn.model_selection import KFold\n",
    "from sklearn.ensemble import RandomForestClassifier\n",
    "from sklearn.svm import SVC,LinearSVC\n",
    "from sklearn.linear_model import LogisticRegression\n",
    "from sklearn.naive_bayes import MultinomialNB, GaussianNB\n",
    "from sklearn.neural_network import MLPClassifier\n",
    "from sklearn.metrics import accuracy_score\n",
    "from sklearn.utils import shuffle\n",
    "from sklearn.metrics import matthews_corrcoef as mcc\n",
    "from sklearn.metrics import classification_report\n",
    "# from xgboost import XGBClassifier\n",
    "warnings.filterwarnings(\"ignore\")\n",
    "import scipy\n",
    "from scipy.misc import imread\n",
    "# from skimage.color import rgb2lab\n",
    "# from skimage.color import rgb2gray\n",
    "# from skimage.measure import regionprops\n",
    "import pickle\n",
    "import random\n",
    "import seaborn as sb\n",
    "# from skimage.feature import hog,local_binary_pattern\n",
    "from sklearn.model_selection import train_test_split\n",
    "# from skimage import data, exposure\n",
    "# train_test_split_ratio = 0.7"
   ]
  },
  {
   "cell_type": "code",
   "execution_count": 19,
   "metadata": {},
   "outputs": [],
   "source": [
    "from feature_selection_ga import FeatureSelectionGA\n",
    "rotationforest = rotation_forest.RotationForestClassifier(random_state=False,max_depth=4,n_estimators=10)\n"
   ]
  },
  {
   "cell_type": "code",
   "execution_count": 21,
   "metadata": {},
   "outputs": [],
   "source": [
    "#train_X, train_Y => diagnostic dataset 1 => 30 features genetic algorithm use\n",
    "#train_X2, train_Y2 => original dataset 2 => 10 features"
   ]
  },
  {
   "cell_type": "code",
   "execution_count": 4,
   "metadata": {},
   "outputs": [],
   "source": [
    "# !pip3 install seaborn"
   ]
  },
  {
   "cell_type": "markdown",
   "metadata": {},
   "source": [
    "# Dataset 2 Read"
   ]
  },
  {
   "cell_type": "code",
   "execution_count": 5,
   "metadata": {},
   "outputs": [],
   "source": [
    "data2 = np.genfromtxt(\"./data/breast-cancer-wisconsin.data\",delimiter=\",\")"
   ]
  },
  {
   "cell_type": "code",
   "execution_count": 6,
   "metadata": {},
   "outputs": [],
   "source": [
    "train_data2 = data2.T[1:].T\n",
    "train_X2 = train_data2.T[0:-1].T.astype(float)\n",
    "train_Y2 = train_data2.T[-1].T\n",
    "for i in range(len(train_Y2)):\n",
    "    if(train_Y2[i] == 2):\n",
    "        train_Y2[i] = 1\n",
    "    else:\n",
    "        train_Y2[i] = 0\n",
    "# print (train_Y2)\n",
    "# print len(train_X2)\n",
    "# print len(train_X2[0])\n",
    "train_X2 = np.array(train_X2)\n",
    "train_Y2 = np.array(train_Y2)\n",
    "train_X2,train_Y2 = shuffle(train_X2,train_Y2)"
   ]
  },
  {
   "cell_type": "markdown",
   "metadata": {},
   "source": [
    "# Dataset 1 read"
   ]
  },
  {
   "cell_type": "code",
   "execution_count": 22,
   "metadata": {},
   "outputs": [],
   "source": [
    "completedata = pd.read_csv(\"./data/data.csv\")\n",
    "completedata.head()\n",
    "completedata.loc[completedata.diagnosis == 'M', 'diagnosis'] = 1\n",
    "completedata.loc[completedata.diagnosis == 'B', 'diagnosis'] = 0"
   ]
  },
  {
   "cell_type": "code",
   "execution_count": 23,
   "metadata": {},
   "outputs": [
    {
     "name": "stdout",
     "output_type": "stream",
     "text": [
      "Index([u'id', u'diagnosis', u'radius_mean', u'texture_mean', u'perimeter_mean',\n",
      "       u'area_mean', u'smoothness_mean', u'compactness_mean',\n",
      "       u'concavity_mean', u'concave points_mean', u'symmetry_mean',\n",
      "       u'fractal_dimension_mean', u'radius_se', u'texture_se', u'perimeter_se',\n",
      "       u'area_se', u'smoothness_se', u'compactness_se', u'concavity_se',\n",
      "       u'concave points_se', u'symmetry_se', u'fractal_dimension_se',\n",
      "       u'radius_worst', u'texture_worst', u'perimeter_worst', u'area_worst',\n",
      "       u'smoothness_worst', u'compactness_worst', u'concavity_worst',\n",
      "       u'concave points_worst', u'symmetry_worst', u'fractal_dimension_worst',\n",
      "       u'Unnamed: 32'],\n",
      "      dtype='object')\n"
     ]
    }
   ],
   "source": [
    "print completedata.keys()"
   ]
  },
  {
   "cell_type": "code",
   "execution_count": 24,
   "metadata": {},
   "outputs": [],
   "source": [
    "train_XGA = completedata[[\"radius_se\",\"texture_mean\",\"perimeter_mean\",\"perimeter_se\",\"area_se\",\"smoothness_se\",\"compactness_worst\",\"concavity_mean\",\"concavity_worst\",\"concave points_se\",\"concave points_worst\",\"symmetry_mean\",\"symmetry_worst\",\"fractal_dimension_mean\"]]\n",
    "train_YGA = completedata.diagnosis\n",
    "train_Y = completedata.diagnosis\n",
    "train_X = completedata.drop([\"id\",\"Unnamed: 32\",\"diagnosis\"],axis=1)"
   ]
  },
  {
   "cell_type": "code",
   "execution_count": 25,
   "metadata": {},
   "outputs": [
    {
     "data": {
      "text/html": [
       "<div>\n",
       "<style scoped>\n",
       "    .dataframe tbody tr th:only-of-type {\n",
       "        vertical-align: middle;\n",
       "    }\n",
       "\n",
       "    .dataframe tbody tr th {\n",
       "        vertical-align: top;\n",
       "    }\n",
       "\n",
       "    .dataframe thead th {\n",
       "        text-align: right;\n",
       "    }\n",
       "</style>\n",
       "<table border=\"1\" class=\"dataframe\">\n",
       "  <thead>\n",
       "    <tr style=\"text-align: right;\">\n",
       "      <th></th>\n",
       "      <th>radius_se</th>\n",
       "      <th>texture_mean</th>\n",
       "      <th>perimeter_mean</th>\n",
       "      <th>perimeter_se</th>\n",
       "      <th>area_se</th>\n",
       "      <th>smoothness_se</th>\n",
       "      <th>compactness_worst</th>\n",
       "      <th>concavity_mean</th>\n",
       "      <th>concavity_worst</th>\n",
       "      <th>concave points_se</th>\n",
       "      <th>concave points_worst</th>\n",
       "      <th>symmetry_mean</th>\n",
       "      <th>symmetry_worst</th>\n",
       "      <th>fractal_dimension_mean</th>\n",
       "    </tr>\n",
       "  </thead>\n",
       "  <tbody>\n",
       "    <tr>\n",
       "      <th>0</th>\n",
       "      <td>1.0950</td>\n",
       "      <td>10.38</td>\n",
       "      <td>122.80</td>\n",
       "      <td>8.589</td>\n",
       "      <td>153.40</td>\n",
       "      <td>0.006399</td>\n",
       "      <td>0.6656</td>\n",
       "      <td>0.3001</td>\n",
       "      <td>0.7119</td>\n",
       "      <td>0.01587</td>\n",
       "      <td>0.2654</td>\n",
       "      <td>0.2419</td>\n",
       "      <td>0.4601</td>\n",
       "      <td>0.07871</td>\n",
       "    </tr>\n",
       "    <tr>\n",
       "      <th>1</th>\n",
       "      <td>0.5435</td>\n",
       "      <td>17.77</td>\n",
       "      <td>132.90</td>\n",
       "      <td>3.398</td>\n",
       "      <td>74.08</td>\n",
       "      <td>0.005225</td>\n",
       "      <td>0.1866</td>\n",
       "      <td>0.0869</td>\n",
       "      <td>0.2416</td>\n",
       "      <td>0.01340</td>\n",
       "      <td>0.1860</td>\n",
       "      <td>0.1812</td>\n",
       "      <td>0.2750</td>\n",
       "      <td>0.05667</td>\n",
       "    </tr>\n",
       "    <tr>\n",
       "      <th>2</th>\n",
       "      <td>0.7456</td>\n",
       "      <td>21.25</td>\n",
       "      <td>130.00</td>\n",
       "      <td>4.585</td>\n",
       "      <td>94.03</td>\n",
       "      <td>0.006150</td>\n",
       "      <td>0.4245</td>\n",
       "      <td>0.1974</td>\n",
       "      <td>0.4504</td>\n",
       "      <td>0.02058</td>\n",
       "      <td>0.2430</td>\n",
       "      <td>0.2069</td>\n",
       "      <td>0.3613</td>\n",
       "      <td>0.05999</td>\n",
       "    </tr>\n",
       "    <tr>\n",
       "      <th>3</th>\n",
       "      <td>0.4956</td>\n",
       "      <td>20.38</td>\n",
       "      <td>77.58</td>\n",
       "      <td>3.445</td>\n",
       "      <td>27.23</td>\n",
       "      <td>0.009110</td>\n",
       "      <td>0.8663</td>\n",
       "      <td>0.2414</td>\n",
       "      <td>0.6869</td>\n",
       "      <td>0.01867</td>\n",
       "      <td>0.2575</td>\n",
       "      <td>0.2597</td>\n",
       "      <td>0.6638</td>\n",
       "      <td>0.09744</td>\n",
       "    </tr>\n",
       "    <tr>\n",
       "      <th>4</th>\n",
       "      <td>0.7572</td>\n",
       "      <td>14.34</td>\n",
       "      <td>135.10</td>\n",
       "      <td>5.438</td>\n",
       "      <td>94.44</td>\n",
       "      <td>0.011490</td>\n",
       "      <td>0.2050</td>\n",
       "      <td>0.1980</td>\n",
       "      <td>0.4000</td>\n",
       "      <td>0.01885</td>\n",
       "      <td>0.1625</td>\n",
       "      <td>0.1809</td>\n",
       "      <td>0.2364</td>\n",
       "      <td>0.05883</td>\n",
       "    </tr>\n",
       "  </tbody>\n",
       "</table>\n",
       "</div>"
      ],
      "text/plain": [
       "   radius_se  texture_mean  perimeter_mean  perimeter_se  area_se  \\\n",
       "0     1.0950         10.38          122.80         8.589   153.40   \n",
       "1     0.5435         17.77          132.90         3.398    74.08   \n",
       "2     0.7456         21.25          130.00         4.585    94.03   \n",
       "3     0.4956         20.38           77.58         3.445    27.23   \n",
       "4     0.7572         14.34          135.10         5.438    94.44   \n",
       "\n",
       "   smoothness_se  compactness_worst  concavity_mean  concavity_worst  \\\n",
       "0       0.006399             0.6656          0.3001           0.7119   \n",
       "1       0.005225             0.1866          0.0869           0.2416   \n",
       "2       0.006150             0.4245          0.1974           0.4504   \n",
       "3       0.009110             0.8663          0.2414           0.6869   \n",
       "4       0.011490             0.2050          0.1980           0.4000   \n",
       "\n",
       "   concave points_se  concave points_worst  symmetry_mean  symmetry_worst  \\\n",
       "0            0.01587                0.2654         0.2419          0.4601   \n",
       "1            0.01340                0.1860         0.1812          0.2750   \n",
       "2            0.02058                0.2430         0.2069          0.3613   \n",
       "3            0.01867                0.2575         0.2597          0.6638   \n",
       "4            0.01885                0.1625         0.1809          0.2364   \n",
       "\n",
       "   fractal_dimension_mean  \n",
       "0                 0.07871  \n",
       "1                 0.05667  \n",
       "2                 0.05999  \n",
       "3                 0.09744  \n",
       "4                 0.05883  "
      ]
     },
     "execution_count": 25,
     "metadata": {},
     "output_type": "execute_result"
    }
   ],
   "source": [
    "train_XGA.head()"
   ]
  },
  {
   "cell_type": "code",
   "execution_count": 27,
   "metadata": {},
   "outputs": [],
   "source": [
    "train_Y = np.array(train_Y)\n",
    "train_X = np.array(train_X)\n",
    "train_YGA = np.array(train_YGA)\n",
    "train_XGA = np.array(train_XGA)\n",
    "train_X,train_Y,train_XGA,train_YGA = shuffle(train_X,train_Y,train_XGA,train_YGA)"
   ]
  },
  {
   "cell_type": "code",
   "execution_count": 10,
   "metadata": {},
   "outputs": [],
   "source": [
    "# train_X.iloc()"
   ]
  },
  {
   "cell_type": "code",
   "execution_count": 11,
   "metadata": {},
   "outputs": [],
   "source": [
    "# print (train_X.shape)\n",
    "# # print (completedata.shape)\n",
    "# print (train_X[0:3,:])"
   ]
  },
  {
   "cell_type": "code",
   "execution_count": 12,
   "metadata": {},
   "outputs": [],
   "source": [
    "# train_X.head()"
   ]
  },
  {
   "cell_type": "code",
   "execution_count": 13,
   "metadata": {},
   "outputs": [
    {
     "data": {
      "text/plain": [
       "(569,)"
      ]
     },
     "execution_count": 13,
     "metadata": {},
     "output_type": "execute_result"
    }
   ],
   "source": [
    "train_Y.shape"
   ]
  },
  {
   "cell_type": "code",
   "execution_count": 14,
   "metadata": {},
   "outputs": [],
   "source": [
    "# mask = np.zeros_like(train_X.corr(), dtype=np.bool)\n",
    "# mask[np.triu_indices_from(mask)] = True\n",
    "# plt.figure(figsize=(16,8))\n",
    "# sb.heatmap(np.abs(train_X.corr()),cmap='YlGn',mask=mask, annot=True)\n",
    "# plt.show()"
   ]
  },
  {
   "cell_type": "code",
   "execution_count": 15,
   "metadata": {},
   "outputs": [],
   "source": [
    "# ax = sb.countplot(train_Y,label=\"Count\")       # M = 212, B = 357\n",
    "# B, M = train_Y.value_counts()\n",
    "# print('Number of Benign: ',B)\n",
    "# print('Number of Malignant : ',M)"
   ]
  },
  {
   "cell_type": "markdown",
   "metadata": {},
   "source": [
    "# Dataset read complete"
   ]
  },
  {
   "cell_type": "code",
   "execution_count": 16,
   "metadata": {},
   "outputs": [],
   "source": [
    "import rotation_forest\n",
    "def reports(classifier,train_data,train_labels,train_test_split_ratio=.2):\n",
    "    scores = []\n",
    "    X_train, X_test, y_train, y_test = train_test_split(train_data, train_labels,shuffle=False, test_size=train_test_split_ratio)\n",
    "    kf = KFold(n_splits=5,shuffle=False)\n",
    "    kf.get_n_splits(X_train)\n",
    "    print(kf)\n",
    "    scores = []\n",
    "    for train_index, test_index in kf.split(X_train):\n",
    "        #print(\"TRAIN:\", len(train_index), \"TEST:\", len(test_index))\n",
    "        X_traini, X_testi = X_train[train_index], X_train[test_index]\n",
    "        y_traini, y_testi = y_train[train_index], y_train[test_index]\n",
    "        classifier.fit(X_traini,y_traini)\n",
    "        predicted = classifier.predict(X_testi)\n",
    "        scores.append(accuracy_score(predicted,y_testi))\n",
    "    scores = np.array(scores)\n",
    "    print (\"Average Accuracy K Fold: \",scores.mean())\n",
    "    \n",
    "    classifier.fit(X_train,y_train)\n",
    "    predicted = classifier.predict(X_test)\n",
    "    print (\"Test Data Results:\")\n",
    "    print (\"Test Accuracy: \",accuracy_score(predicted,y_test))\n",
    "    X = classification_report(y_test,predicted)\n",
    "    print (X)\n",
    "#     print (\"MCC: \",mcc(test_y,predicted))\n",
    "#     print (\"\")"
   ]
  },
  {
   "cell_type": "code",
   "execution_count": null,
   "metadata": {},
   "outputs": [],
   "source": []
  },
  {
   "cell_type": "code",
   "execution_count": 17,
   "metadata": {},
   "outputs": [],
   "source": [
    "from sklearn.decomposition import PCA\n",
    "pca = PCA(n_components=25)"
   ]
  },
  {
   "cell_type": "code",
   "execution_count": 28,
   "metadata": {},
   "outputs": [
    {
     "name": "stdout",
     "output_type": "stream",
     "text": [
      "KFold(n_splits=5, random_state=None, shuffle=False)\n",
      "('Average Accuracy K Fold: ', 0.9296703296703297)\n",
      "Test Data Results:\n",
      "('Test Accuracy: ', 0.9385964912280702)\n",
      "              precision    recall  f1-score   support\n",
      "\n",
      "           0       0.92      0.98      0.95        66\n",
      "           1       0.98      0.88      0.92        48\n",
      "\n",
      "   micro avg       0.94      0.94      0.94       114\n",
      "   macro avg       0.95      0.93      0.94       114\n",
      "weighted avg       0.94      0.94      0.94       114\n",
      "\n"
     ]
    }
   ],
   "source": [
    "reports(rotationforest,train_XGA,train_YGA,0.2)"
   ]
  },
  {
   "cell_type": "code",
   "execution_count": 55,
   "metadata": {},
   "outputs": [
    {
     "data": {
      "text/plain": [
       "array([1, 1, 1, 1, 1])"
      ]
     },
     "execution_count": 55,
     "metadata": {},
     "output_type": "execute_result"
    }
   ],
   "source": [
    "train_Y[0:5]"
   ]
  },
  {
   "cell_type": "code",
   "execution_count": 175,
   "metadata": {},
   "outputs": [
    {
     "name": "stdout",
     "output_type": "stream",
     "text": [
      "EVOLVING.......\n",
      "-- GENERATION 1 --\n",
      "Evaluated 56 individuals\n",
      "-- GENERATION 2 --\n",
      "Evaluated 52 individuals\n",
      "-- GENERATION 3 --\n",
      "Evaluated 65 individuals\n",
      "-- GENERATION 4 --\n",
      "Evaluated 55 individuals\n",
      "-- GENERATION 5 --\n",
      "Evaluated 54 individuals\n",
      "-- Only the fittest survives --\n",
      "Best individual is [1, 1, 0, 0, 0, 0, 1, 1, 1, 0, 0, 0, 0, 0, 1, 0, 0, 0, 1, 1, 1, 1, 0, 1, 0, 0, 1, 0, 0, 1], (0.964200477326969,)\n"
     ]
    }
   ],
   "source": [
    "ga = FeatureSelectionGA(rotationforest,train_X,train_Y,cv_split=10)\n",
    "pop = ga.generate(100)"
   ]
  },
  {
   "cell_type": "code",
   "execution_count": null,
   "metadata": {},
   "outputs": [],
   "source": []
  },
  {
   "cell_type": "code",
   "execution_count": 1,
   "metadata": {},
   "outputs": [],
   "source": [
    "# print (pop)"
   ]
  },
  {
   "cell_type": "code",
   "execution_count": 112,
   "metadata": {},
   "outputs": [],
   "source": [
    "# print data2[0]"
   ]
  },
  {
   "cell_type": "code",
   "execution_count": 125,
   "metadata": {},
   "outputs": [],
   "source": [
    "# train_data2 = data2.T[1:].T\n",
    "# train_X2 = []\n",
    "# train_Y2 = []\n",
    "\n",
    "# for i in range(len(train_data2)):\n",
    "#     if(np.nan not in train_data2[i]):\n",
    "#         train_X2.append(train_data2[i][0:-1])\n",
    "#         if(train_data2[i][-1] == 2):\n",
    "#             train_Y2.append(1)\n",
    "#         else:\n",
    "#             train_Y2.append(0)\n",
    "\n",
    "# # train_Y2 = train_data2.T[-1].T\n",
    "# # for i in range(len(train_Y2)):\n",
    "# #     if(train_Y2[i] == 2):\n",
    "# #         train_Y2[i] = 1\n",
    "# #     else:\n",
    "# #         train_Y2[i] = 0\n",
    "# print (train_Y2)\n",
    "# print len(train_X2)\n",
    "# # print len(train_X2[0])"
   ]
  },
  {
   "cell_type": "code",
   "execution_count": 164,
   "metadata": {},
   "outputs": [
    {
     "name": "stdout",
     "output_type": "stream",
     "text": [
      "EVOLVING.......\n",
      "-- GENERATION 1 --\n",
      "Evaluated 43 individuals\n",
      "-- GENERATION 2 --\n",
      "Evaluated 40 individuals\n",
      "-- GENERATION 3 --\n",
      "Evaluated 38 individuals\n",
      "-- GENERATION 4 --\n",
      "Evaluated 42 individuals\n",
      "-- GENERATION 5 --\n",
      "Evaluated 40 individuals\n",
      "-- GENERATION 6 --\n",
      "Evaluated 40 individuals\n",
      "-- Only the fittest survives --\n",
      "Best individual is [1, 0, 1, 0, 1, 1, 0, 1, 1], (0.9817767653758542,)\n"
     ]
    }
   ],
   "source": [
    "ga = FeatureSelectionGA(rotationforest,train_X2,train_Y2,cv_split=10)\n",
    "pop = ga.generate(50,mutxpb=0.4,ngen=6,cxpb=0.6)"
   ]
  },
  {
   "cell_type": "code",
   "execution_count": 129,
   "metadata": {},
   "outputs": [
    {
     "data": {
      "text/plain": [
       "RotationForestClassifier(bootstrap=False, class_weight=None, criterion='gini',\n",
       "             max_depth=None, max_features=1.0, max_leaf_nodes=None,\n",
       "             min_samples_leaf=1, min_samples_split=2,\n",
       "             min_weight_fraction_leaf=0.0, n_estimators=10,\n",
       "             n_features_per_subset=3, n_jobs=1, oob_score=False,\n",
       "             random_state=None, rotation_algo='pca', verbose=0,\n",
       "             warm_start=False)"
      ]
     },
     "execution_count": 129,
     "metadata": {},
     "output_type": "execute_result"
    }
   ],
   "source": [
    "rotationforest.fit(train_X2,train_Y2)"
   ]
  },
  {
   "cell_type": "code",
   "execution_count": 130,
   "metadata": {},
   "outputs": [],
   "source": [
    "y = rotationforest.predict(train_X2)"
   ]
  },
  {
   "cell_type": "code",
   "execution_count": 132,
   "metadata": {},
   "outputs": [
    {
     "data": {
      "text/plain": [
       "1.0"
      ]
     },
     "execution_count": 132,
     "metadata": {},
     "output_type": "execute_result"
    }
   ],
   "source": [
    "accuracy_score(y_pred=y,y_true=train_Y2)"
   ]
  },
  {
   "cell_type": "code",
   "execution_count": 168,
   "metadata": {},
   "outputs": [
    {
     "name": "stdout",
     "output_type": "stream",
     "text": [
      "KFold(n_splits=5, random_state=None, shuffle=False)\n",
      "('Average Accuracy K Fold: ', 0.945054945054945)\n",
      "Test Data Results:\n",
      "('Test Accuracy: ', 0.9736842105263158)\n",
      "              precision    recall  f1-score   support\n",
      "\n",
      "           0       0.99      0.97      0.98        72\n",
      "           1       0.95      0.98      0.96        42\n",
      "\n",
      "   micro avg       0.97      0.97      0.97       114\n",
      "   macro avg       0.97      0.97      0.97       114\n",
      "weighted avg       0.97      0.97      0.97       114\n",
      "\n"
     ]
    }
   ],
   "source": [
    "reports(rotationforest,train_X,train_Y,0.2)"
   ]
  },
  {
   "cell_type": "code",
   "execution_count": 107,
   "metadata": {},
   "outputs": [
    {
     "name": "stdout",
     "output_type": "stream",
     "text": [
      "KFold(n_splits=5, random_state=None, shuffle=False)\n",
      "('Average Accuracy K Fold: ', 0.9688407005838199)\n",
      "Test Data Results:\n",
      "('Test Accuracy: ', 0.9781021897810219)\n",
      "              precision    recall  f1-score   support\n",
      "\n",
      "         0.0       0.95      1.00      0.97        55\n",
      "         1.0       1.00      0.96      0.98        82\n",
      "\n",
      "   micro avg       0.98      0.98      0.98       137\n",
      "   macro avg       0.97      0.98      0.98       137\n",
      "weighted avg       0.98      0.98      0.98       137\n",
      "\n"
     ]
    }
   ],
   "source": [
    "rotationforest = rotation_forest.RotationForestClassifier(random_state=False,max_depth=4,n_estimators=10)\n",
    "reports(rotationforest,train_X2,train_Y2,0.2)"
   ]
  },
  {
   "cell_type": "code",
   "execution_count": 23,
   "metadata": {},
   "outputs": [
    {
     "name": "stdout",
     "output_type": "stream",
     "text": [
      "683\n"
     ]
    }
   ],
   "source": [
    "print len(train_X2)"
   ]
  },
  {
   "cell_type": "code",
   "execution_count": 121,
   "metadata": {},
   "outputs": [
    {
     "name": "stdout",
     "output_type": "stream",
     "text": [
      "KFold(n_splits=5, random_state=None, shuffle=False)\n",
      "('Average Accuracy K Fold: ', 0.9670058381984988)\n",
      "Test Data Results:\n",
      "('Test Accuracy: ', 0.9708029197080292)\n",
      "              precision    recall  f1-score   support\n",
      "\n",
      "         0.0       0.96      0.96      0.96        55\n",
      "         1.0       0.98      0.98      0.98        82\n",
      "\n",
      "   micro avg       0.97      0.97      0.97       137\n",
      "   macro avg       0.97      0.97      0.97       137\n",
      "weighted avg       0.97      0.97      0.97       137\n",
      "\n"
     ]
    }
   ],
   "source": [
    "logistic = LogisticRegression(random_state=0, solver='lbfgs',multi_class='multinomial')\n",
    "reports(logistic,train_X2,train_Y2,0.2)"
   ]
  },
  {
   "cell_type": "code",
   "execution_count": 144,
   "metadata": {},
   "outputs": [
    {
     "name": "stdout",
     "output_type": "stream",
     "text": [
      "KFold(n_splits=5, random_state=None, shuffle=False)\n",
      "('Average Accuracy K Fold: ', 0.9541951626355296)\n",
      "Test Data Results:\n",
      "('Test Accuracy: ', 0.9197080291970803)\n",
      "              precision    recall  f1-score   support\n",
      "\n",
      "         0.0       0.89      0.91      0.90        55\n",
      "         1.0       0.94      0.93      0.93        82\n",
      "\n",
      "   micro avg       0.92      0.92      0.92       137\n",
      "   macro avg       0.92      0.92      0.92       137\n",
      "weighted avg       0.92      0.92      0.92       137\n",
      "\n"
     ]
    }
   ],
   "source": [
    "from sklearn.tree import DecisionTreeClassifier\n",
    "decisiontree = DecisionTreeClassifier(random_state=0,max_depth=4)\n",
    "reports(decisiontree,train_X2,train_Y2,0.2)"
   ]
  },
  {
   "cell_type": "code",
   "execution_count": 136,
   "metadata": {},
   "outputs": [
    {
     "name": "stdout",
     "output_type": "stream",
     "text": [
      "KFold(n_splits=5, random_state=None, shuffle=False)\n",
      "('Average Accuracy K Fold: ', 0.9578648874061718)\n",
      "Test Data Results:\n",
      "('Test Accuracy: ', 0.9562043795620438)\n",
      "              precision    recall  f1-score   support\n",
      "\n",
      "         0.0       0.96      0.93      0.94        55\n",
      "         1.0       0.95      0.98      0.96        82\n",
      "\n",
      "   micro avg       0.96      0.96      0.96       137\n",
      "   macro avg       0.96      0.95      0.95       137\n",
      "weighted avg       0.96      0.96      0.96       137\n",
      "\n"
     ]
    }
   ],
   "source": [
    "ann = MLPClassifier(solver='lbfgs', alpha=1e-5,hidden_layer_sizes=(5, 2), random_state=1)\n",
    "reports(ann,train_X2,train_Y2,0.2)"
   ]
  },
  {
   "cell_type": "code",
   "execution_count": 136,
   "metadata": {},
   "outputs": [
    {
     "name": "stdout",
     "output_type": "stream",
     "text": [
      "KFold(n_splits=5, random_state=None, shuffle=False)\n",
      "('Average Accuracy K Fold: ', 0.9578648874061718)\n",
      "Test Data Results:\n",
      "('Test Accuracy: ', 0.9562043795620438)\n",
      "              precision    recall  f1-score   support\n",
      "\n",
      "         0.0       0.96      0.93      0.94        55\n",
      "         1.0       0.95      0.98      0.96        82\n",
      "\n",
      "   micro avg       0.96      0.96      0.96       137\n",
      "   macro avg       0.96      0.95      0.95       137\n",
      "weighted avg       0.96      0.96      0.96       137\n",
      "\n"
     ]
    }
   ],
   "source": [
    "rbfn\n",
    "reports(rbfn,train_X2,train_Y2,0.2)"
   ]
  },
  {
   "cell_type": "code",
   "execution_count": 129,
   "metadata": {},
   "outputs": [
    {
     "name": "stdout",
     "output_type": "stream",
     "text": [
      "KFold(n_splits=5, random_state=None, shuffle=False)\n",
      "('Average Accuracy K Fold: ', 0.9706922435362803)\n",
      "Test Data Results:\n",
      "('Test Accuracy: ', 0.9708029197080292)\n",
      "              precision    recall  f1-score   support\n",
      "\n",
      "         0.0       0.93      1.00      0.96        55\n",
      "         1.0       1.00      0.95      0.97        82\n",
      "\n",
      "   micro avg       0.97      0.97      0.97       137\n",
      "   macro avg       0.97      0.98      0.97       137\n",
      "weighted avg       0.97      0.97      0.97       137\n",
      "\n"
     ]
    }
   ],
   "source": [
    "randomforest = RandomForestClassifier(n_estimators=10, max_depth=4,random_state=0)\n",
    "reports(randomforest,train_X2,train_Y2,0.2)"
   ]
  },
  {
   "cell_type": "code",
   "execution_count": 150,
   "metadata": {},
   "outputs": [
    {
     "name": "stdout",
     "output_type": "stream",
     "text": [
      "KFold(n_splits=5, random_state=None, shuffle=False)\n",
      "('Average Accuracy K Fold: ', 0.9670058381984987)\n",
      "Test Data Results:\n",
      "('Test Accuracy: ', 0.948905109489051)\n",
      "              precision    recall  f1-score   support\n",
      "\n",
      "         0.0       0.90      0.98      0.94        55\n",
      "         1.0       0.99      0.93      0.96        82\n",
      "\n",
      "   micro avg       0.95      0.95      0.95       137\n",
      "   macro avg       0.94      0.95      0.95       137\n",
      "weighted avg       0.95      0.95      0.95       137\n",
      "\n"
     ]
    }
   ],
   "source": [
    "gausian = GaussianNB()\n",
    "reports(gausian,train_X2,train_Y2,0.2)"
   ]
  },
  {
   "cell_type": "code",
   "execution_count": 143,
   "metadata": {},
   "outputs": [
    {
     "name": "stdout",
     "output_type": "stream",
     "text": [
      "KFold(n_splits=5, random_state=None, shuffle=False)\n",
      "('Average Accuracy K Fold: ', 0.9414011676396997)\n",
      "Test Data Results:\n",
      "('Test Accuracy: ', 0.9124087591240876)\n",
      "              precision    recall  f1-score   support\n",
      "\n",
      "         0.0       0.92      0.85      0.89        55\n",
      "         1.0       0.91      0.95      0.93        82\n",
      "\n",
      "   micro avg       0.91      0.91      0.91       137\n",
      "   macro avg       0.91      0.90      0.91       137\n",
      "weighted avg       0.91      0.91      0.91       137\n",
      "\n"
     ]
    }
   ],
   "source": [
    "svm = SVC(gamma='auto',kernel='poly')\n",
    "reports(svm,train_X2,train_Y2,0.2)"
   ]
  },
  {
   "cell_type": "code",
   "execution_count": null,
   "metadata": {},
   "outputs": [],
   "source": []
  }
 ],
 "metadata": {
  "kernelspec": {
   "display_name": "Python 2",
   "language": "python",
   "name": "python2"
  },
  "language_info": {
   "codemirror_mode": {
    "name": "ipython",
    "version": 2
   },
   "file_extension": ".py",
   "mimetype": "text/x-python",
   "name": "python",
   "nbconvert_exporter": "python",
   "pygments_lexer": "ipython2",
   "version": "2.7.15"
  }
 },
 "nbformat": 4,
 "nbformat_minor": 2
}
